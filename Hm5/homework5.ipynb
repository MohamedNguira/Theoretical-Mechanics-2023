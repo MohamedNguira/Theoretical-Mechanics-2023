{
  "nbformat": 4,
  "nbformat_minor": 0,
  "metadata": {
    "colab": {
      "provenance": []
    },
    "kernelspec": {
      "name": "python3",
      "display_name": "Python 3"
    },
    "language_info": {
      "name": "python"
    }
  },
  "cells": [
    {
      "cell_type": "markdown",
      "source": [
        "# Task 1:\n",
        "\n",
        "##Research Object\n",
        "Bullet (Projectile motion)\n",
        "\n",
        "## Without Air drag force:\n",
        "\n",
        "## Kinematic analysis:\n",
        "$$a_x = 0, a_y = -g$$\n",
        "$$v_{x_0} = v_0 cos(α), v_{y_0} = v_0 sin(α)$$\n",
        "$$v_x = v_{x_0}, v_y = v_{y_0} - gt$$\n",
        "\n",
        "\n",
        "$$L = \\frac{v^2sin(2α)}{g}$$\n",
        "I got the formula from this video: https://www.youtube.com/watch?v=8NLzuURxFwY\n",
        "\n",
        "$$α = \\frac{arcsin(Lg/v^2)}{2} = 0.556 °$$\n",
        "\n",
        "$$H_{max} = \\frac{v^2sin^2(α)}{2g} = 10771.82 m$$\n",
        "\n",
        "## With Air drag force:\n",
        "\n",
        "$$\\begin{bmatrix}\n",
        "a_x\\\\\n",
        "a_y\n",
        "\\end{bmatrix} = \\begin{bmatrix}\n",
        "\\frac{-kv_x}{m}\\sqrt{v_x^2 + v_y^2}\\\\\n",
        "-g - \\frac{-kv_y}{m}\\sqrt{v_x^2 + v_y^2}\n",
        "\\end{bmatrix}$$\n",
        "\n",
        "We will solve these differential equations numerically, then we will find the appropriate angle alpha to use using binary search which for each angle will find the value of x of the bullet when it lands. If it lands after the target we reduce alpha, otherwise we increase it. "
      ],
      "metadata": {
        "id": "-NzDOqqNSQOC"
      }
    },
    {
      "cell_type": "code",
      "source": [
        "from scipy.integrate import solve_ivp\n",
        "import scipy.integrate\n",
        "import numpy as np\n",
        "import matplotlib.pyplot as plt\n",
        "import math\n",
        "h0 = 0\n",
        "v0 = 870\n",
        "L = 1500\n",
        "k = 1.3 * 10 ** (-5)\n",
        "m = 13.6 / 1000\n",
        "g = 9.8\n",
        "eps = 1e-2\n",
        "def rhs(s, v): \n",
        "    return [-k * v[0] / m * (v[0]**2 + v[1]**2)**0.5, -g -k * v[1] / m * (v[0]**2 + v[1]**2)**0.5]\n",
        "\n",
        "tt = np.linspace(0,30,1000)\n",
        "alpha = 10\n",
        "\n",
        "sol = []\n",
        "def solve(alpha):\n",
        "  tt = np.linspace(0,30,5000)\n",
        "  res = solve_ivp(rhs,(0, 30),[v0 * math.cos(math.radians(alpha)), v0 * math.sin(math.radians(alpha))],t_eval = tt)\n",
        "  vy = res.y[1]\n",
        "  vx = res.y[0]\n",
        "  x = 0\n",
        "  y = 0\n",
        "  tt = res.t\n",
        "  for i in range(0,len(tt)-2):\n",
        "    x += vx[i] * (tt[i+1] - tt[i])\n",
        "    y += vy[i] * (tt[i+1] - tt[i])\n",
        "    if y < eps:\n",
        "      return x\n",
        "  print(x,\" \",y)\n",
        "  resx = scipy.integrate.trapz(res.y[0], x=res.t)\n",
        "  resy = scipy.integrate.trapz(res.y[1], x=res.t)\n",
        "  print(resx,\" \",resy)\n",
        "  return 0\n",
        "\n",
        "def bin(l,r):\n",
        "  if abs(r - l) < 1e-7:\n",
        "    return l\n",
        "  mid = (l+r)/2\n",
        "  b = solve(mid)\n",
        "  if b > 1500:\n",
        "    return bin(l,mid)\n",
        "  else: \n",
        "    return bin(mid,r)\n",
        "\n",
        "sol = bin(0,45)\n",
        "print(\"Angle alpha is: \",sol, \"degrees\")\n",
        "\n",
        "\n",
        "tt = np.linspace(0,30,5000)\n",
        "res = solve_ivp(rhs,(0, 30),[v0 * math.cos(math.radians(alpha)), v0 * math.sin(math.radians(alpha))],t_eval = tt)\n",
        "vy = res.y[1]\n",
        "vx = res.y[0]\n",
        "fx =  - vx * k * (vx**2 + vy**2)**0.5\n",
        "fy = - vy * k * (vx ** 2 + vy ** 2) ** 0.5\n",
        "\n",
        "\n",
        "\n",
        "plt.plot(tt,fx)\n",
        "\n",
        "plt.plot(tt,fy)\n",
        "plt.legend([\"Fx\",\"Fy\"])\n"
      ],
      "metadata": {
        "colab": {
          "base_uri": "https://localhost:8080/",
          "height": 301
        },
        "id": "BoMWhCiB9Oz8",
        "outputId": "0470ed32-2031-48f2-8c32-859d405a3318"
      },
      "execution_count": 12,
      "outputs": [
        {
          "output_type": "stream",
          "name": "stdout",
          "text": [
            "Angle alpha is:  1.8318765051662922 degrees\n"
          ]
        },
        {
          "output_type": "execute_result",
          "data": {
            "text/plain": [
              "<matplotlib.legend.Legend at 0x7f8f8f5dcc70>"
            ]
          },
          "metadata": {},
          "execution_count": 12
        },
        {
          "output_type": "display_data",
          "data": {
            "text/plain": [
              "<Figure size 432x288 with 1 Axes>"
            ],
            "image/png": "[encoded data removed]"
          },
          "metadata": {
            "needs_background": "light"
          }
        }
      ]
    },
    {
      "cell_type": "markdown",
      "source": [
        "# Task 2:\n",
        "\n",
        "## Research Objects:\n",
        "-Particle M — Planar motion\n",
        "\n",
        "-Object A — rotational motion\n",
        "\n",
        "## Force Analysis:\n",
        "$\\vec{G}$ (weight of M)\n",
        "\n",
        "$\\vec{N}$ (Reaction force of A on M)\n",
        "\n",
        "##Solution:\n",
        "\n",
        "$$R = mw^2Nx$$\n",
        "$$mx''= G + N = mgsin(wt) + mw^2x$$\n",
        "$$x'' = gsin(wt) + w^2x$$\n",
        "\n",
        "Solve the differential equation numerically, plot positions and find the time when the particle leaves A (x > r):\n",
        "\n",
        "To find the pressure we need to investigate other direction of forces:\n",
        "and we already get it while solving the equation numerically:\n",
        "\n",
        "$$N + F_c − mgcos(wt) = 0$$ and $F_C = 2mwv_r$ ; $vr = x'$\n",
        "then:\n",
        "$$N = mgcos(wt) − 2mwv_r$$\n"
      ],
      "metadata": {
        "id": "GF9Q0xcXUcw5"
      }
    },
    {
      "cell_type": "code",
      "source": [
        "from scipy.integrate import solve_ivp\n",
        "import scipy.integrate\n",
        "import numpy as np\n",
        "import matplotlib.pyplot as plt\n",
        "from math import sin, cos, tan, sqrt, asin, acos,pi\n",
        "import scipy.integrate as integrate\n",
        "from scipy.integrate import odeint\n",
        "\n",
        "m = 0.02\n",
        "w = np.pi\n",
        "r = 0.5\n",
        "g = 9.8\n",
        "\n",
        "def eq(v,t):\n",
        "     \n",
        "  return [v[1], w*w*v[0] + g*sin(w*t)]\n",
        "\n",
        "v0 = [0,0]\n",
        "t = np.linspace(0,10,1000)\n",
        "\n",
        "vx = odeint(eq,v0,t)\n",
        "stop = 0\n",
        "for i in vx[:,0]:\n",
        "  if(i >= r):\n",
        "     break\n",
        "  stop += 1\n",
        "\n",
        "print(\"Ball leaves at time: \",t[stop])\n",
        "normal_force = []\n",
        "for i,tt in enumerate(t[:stop]):\n",
        "  normal_force.append(m*g*cos(w*tt) - 2*m*w*vx[i,1])\n",
        "\n",
        "plt.plot(t[:stop],vx[:stop,0], label=\"x(t)\")\n",
        "plt.plot(t[:stop],vx[:stop,1], label=\"x'(t)\")\n",
        "plt.legend()\n",
        "plt.show()\n",
        "\n",
        "plt.plot(t[:stop],normal_force, label=\"N(t)\")\n",
        "plt.legend()\n",
        "plt.show()"
      ],
      "metadata": {
        "colab": {
          "base_uri": "https://localhost:8080/",
          "height": 531
        },
        "id": "hI6tJLsPZ3Gh",
        "outputId": "612b4fd7-ae45-42db-fa74-565de92d2c53"
      },
      "execution_count": 11,
      "outputs": [
        {
          "output_type": "stream",
          "name": "stdout",
          "text": [
            "Ball leaves at time:  0.46046046046046046\n"
          ]
        },
        {
          "output_type": "display_data",
          "data": {
            "text/plain": [
              "<Figure size 432x288 with 1 Axes>"
            ],
            "image/png": "[encoded data removed]"
          },
          "metadata": {
            "needs_background": "light"
          }
        },
        {
          "output_type": "display_data",
          "data": {
            "text/plain": [
              "<Figure size 432x288 with 1 Axes>"
            ],
            "image/png": "[encoded data removed]"
          },
          "metadata": {
            "needs_background": "light"
          }
        }
      ]
    }
  ]
}